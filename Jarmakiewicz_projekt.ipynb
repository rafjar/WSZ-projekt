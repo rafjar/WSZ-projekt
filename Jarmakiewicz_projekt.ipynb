{
 "cells": [
  {
   "cell_type": "code",
   "execution_count": 152,
   "metadata": {},
   "outputs": [],
   "source": [
    "import numpy as np\n",
    "import random\n",
    "import matplotlib.pyplot as plt\n",
    "import networkx as nx\n",
    "from tqdm import tqdm"
   ]
  },
  {
   "cell_type": "code",
   "execution_count": 153,
   "metadata": {},
   "outputs": [],
   "source": [
    "'''\n",
    "Sample from the power distribution between\n",
    "k_min <= X <= k_max with exponent of value \n",
    "\"exponent\"\n",
    "'''\n",
    "def power_distribution(size=None, exponent=2.5, k_min=1, k_max=1000):\n",
    "    F = np.random.random(size)\n",
    "\n",
    "    return (F * (k_max**(1-exponent) - k_min**(1-exponent)) + k_min**(1-exponent))**(1/(1-exponent))\n",
    "\n",
    "'''\n",
    "Create graph (as an adjacency matrix) of the\n",
    "power law degree distribution. The graph is \n",
    "created using metropolis alogirthm.\n",
    "'''\n",
    "def metropolis_power_dist(N=1000, iterations=1e4, exponent=2.5, k_min=1, k_max=1000):\n",
    "    N = int(N)\n",
    "    iterations = int(iterations)\n",
    "    matrix = np.zeros((N, N))\n",
    "    k = power_distribution(N, exponent, k_min, k_max)\n",
    "    k_mean = np.mean(k)\n",
    "    \n",
    "    for _ in tqdm(range(iterations)):\n",
    "        i, j = np.random.randint(N, size=(2, N))\n",
    "        while not np.all(i!=j):\n",
    "            j[i==j] = np.random.randint(N, size=np.sum(i==j))\n",
    "\n",
    "        p = np.random.rand(N)\n",
    "        p_ij = k[i]*k[j] / (k_mean*N)\n",
    "        indx = p < p_ij\n",
    "        for indx, i, j in zip(indx, i, j):\n",
    "            if indx:\n",
    "                matrix[i,j] = 1\n",
    "                matrix[j,i] = 1\n",
    "            else:\n",
    "                matrix[i,j] = 0\n",
    "                matrix[j,i] = 0\n",
    "        \n",
    "    return matrix"
   ]
  },
  {
   "cell_type": "code",
   "execution_count": 154,
   "metadata": {},
   "outputs": [
    {
     "name": "stderr",
     "output_type": "stream",
     "text": [
      "100%|██████████| 10000/10000 [00:13<00:00, 732.62it/s]\n"
     ]
    },
    {
     "name": "stdout",
     "output_type": "stream",
     "text": [
      "Number of nodes in network: 1029\n",
      "Number of edges in physical network: 1915\n",
      "Number of edges in virtual network: 2315\n",
      "Number of infected nodes: 208 (20.21%)\n",
      "Number of aware nodes: 208 (20.21%)\n"
     ]
    }
   ],
   "source": [
    "'''\n",
    "Generate two networks: physical and virtual.\n",
    "Virtual network is the same network as the\n",
    "physical one (with the same connections), but it \n",
    "has additional 400 random links between agents.\n",
    "'''\n",
    "nodes = 1250\n",
    "\n",
    "physical = nx.from_numpy_matrix(metropolis_power_dist(N=nodes, iterations=1e4, exponent=2.5, k_min=1, k_max=nodes))\n",
    "# Remove nodes without neighbors\n",
    "zero_neighbors_nodes = [n for n in physical if physical.degree(n) == 0]\n",
    "physical.remove_nodes_from(zero_neighbors_nodes)\n",
    "\n",
    "virtual = physical.copy()\n",
    "\n",
    "for _ in range(400):\n",
    "    nodeA, nodeB = np.random.choice(virtual.nodes, 2, replace=False)\n",
    "    while nodeB in virtual.neighbors(nodeA):\n",
    "        nodeA, nodeB = np.random.choice(virtual.nodes, 2, replace=False)\n",
    "    virtual.add_edge(nodeA, nodeB)\n",
    "\n",
    "'''\n",
    "Initialize agents randomly with certain percentages\n",
    "of beign infected or aware\n",
    "'''\n",
    "aware_percentage = 0.\n",
    "infected_percentage = 0.2\n",
    "for n in physical:\n",
    "    infect_rnd, aware_rnd = np.random.random(size=2)\n",
    "    \n",
    "    if infect_rnd <= infected_percentage:\n",
    "        physical.nodes[n]['infected'] = True\n",
    "    else:\n",
    "        physical.nodes[n]['infected'] = False\n",
    "\n",
    "    if aware_rnd <= aware_percentage or physical.nodes[n]['infected']:\n",
    "        virtual.nodes[n]['aware'] = True\n",
    "    else:\n",
    "        virtual.nodes[n]['aware'] = False\n",
    "\n",
    "print(f'Number of nodes in network: {physical.number_of_nodes()}')\n",
    "print(f'Number of edges in physical network: {physical.number_of_edges()}')\n",
    "print(f'Number of edges in virtual network: {virtual.number_of_edges()}')\n",
    "print(f'Number of infected nodes: {sum([physical.nodes[n][\"infected\"] for n in physical])} ({sum([physical.nodes[n][\"infected\"] for n in physical]) / physical.number_of_nodes() * 100:.2f}%)')\n",
    "print(f'Number of aware nodes: {sum([virtual.nodes[n][\"aware\"] for n in virtual])} ({sum([virtual.nodes[n][\"aware\"] for n in virtual]) / virtual.number_of_nodes() * 100:.2f}%)')"
   ]
  },
  {
   "cell_type": "code",
   "execution_count": 155,
   "metadata": {},
   "outputs": [
    {
     "name": "stderr",
     "output_type": "stream",
     "text": [
      "100%|██████████| 125000/125000 [00:02<00:00, 53154.51it/s]"
     ]
    },
    {
     "name": "stdout",
     "output_type": "stream",
     "text": [
      "0.3177842565597668\n",
      "0.1661807580174927\n"
     ]
    },
    {
     "name": "stderr",
     "output_type": "stream",
     "text": [
      "\n"
     ]
    },
    {
     "data": {
      "text/plain": [
       "[<matplotlib.lines.Line2D at 0x2b1a931a790>]"
      ]
     },
     "execution_count": 155,
     "metadata": {},
     "output_type": "execute_result"
    },
    {
     "data": {
      "image/png": "[encoded data removed]",
      "text/plain": [
       "<Figure size 432x288 with 1 Axes>"
      ]
     },
     "metadata": {
      "needs_background": "light"
     },
     "output_type": "display_data"
    }
   ],
   "source": [
    "Lambda = 0.15 # probability of becoming aware\n",
    "delta = 0.6   # probability of becoming unaware\n",
    "beta = 0.3    # probability of infection\n",
    "gamma = 0     # factor reducing the likelihood of infection\n",
    "mu = 0.4      # probability of recovery\n",
    "\n",
    "plot_aware = []\n",
    "plot_infected = []\n",
    "i = 0\n",
    "\n",
    "iterations = 100\n",
    "for node in tqdm(np.random.choice(physical.nodes, size=nodes*iterations)):\n",
    "    # AI\n",
    "    if physical.nodes[node]['infected']:\n",
    "        # AI -> UI\n",
    "        if random.random() < delta:\n",
    "            # AI -> UI -> US\n",
    "            if random.random() < mu:\n",
    "                physical.nodes[node]['infected'] = False\n",
    "                virtual.nodes[node]['aware'] = False\n",
    "\n",
    "        # AI -> AI\n",
    "        else:\n",
    "            # AI -> AI -> AS\n",
    "            if random.random() < mu:\n",
    "                physical.nodes[node]['infected'] = False\n",
    "            \n",
    "    # AS\n",
    "    elif virtual.nodes[node]['aware']:\n",
    "        # AS -> US\n",
    "        if random.random() < delta:\n",
    "            any_infected_neighbor = any([physical.nodes[n]['infected'] for n in physical.neighbors(node)])\n",
    "            # AS -> US -> UI -> AI\n",
    "            if any_infected_neighbor and random.random() < beta:\n",
    "                physical.nodes[node]['infected'] = True\n",
    "            # AS -> US -> US\n",
    "            else:\n",
    "                virtual.nodes[node]['aware'] = False\n",
    "\n",
    "        # AS -> AS\n",
    "        else:\n",
    "            any_infected_neighbor = any([physical.nodes[n]['infected'] for n in physical.neighbors(node)])\n",
    "            # AS -> AS -> AI\n",
    "            if any_infected_neighbor and random.random() < gamma*beta:\n",
    "                physical.nodes[node]['infected'] = True\n",
    "\n",
    "\n",
    "    # US\n",
    "    else:\n",
    "        any_aware_neighbor = any([virtual.nodes[n]['aware'] for n in virtual.neighbors(node)])\n",
    "        # US -> AS\n",
    "        if any_aware_neighbor and random.random() < Lambda:\n",
    "            virtual.nodes[node]['aware'] = True\n",
    "            any_infected_neighbor = any([physical.nodes[n]['infected'] for n in physical.neighbors(node)])\n",
    "            # US -> AS -> AI\n",
    "            if any_infected_neighbor and random.random() < gamma*beta:\n",
    "                physical.nodes[node]['infected'] = True\n",
    "\n",
    "        # US -> US\n",
    "        else:\n",
    "            any_infected_neighbor = any([physical.nodes[n]['infected'] for n in physical.neighbors(node)])\n",
    "            # US -> US -> UI -> AI\n",
    "            if any_infected_neighbor and random.random() < beta:\n",
    "                physical.nodes[node]['infected'] = True\n",
    "                virtual.nodes[node]['aware'] = True\n",
    "                \n",
    "    if not i % 500:\n",
    "        aware = [virtual.nodes[n]['aware'] for n in virtual]\n",
    "        infected = [physical.nodes[n]['infected'] for n in physical]\n",
    "        plot_aware.append(sum(aware)/len(aware))\n",
    "        plot_infected.append(sum(infected)/len(infected))\n",
    "    i += 1\n",
    "\n",
    "print(sum(aware)/len(aware))\n",
    "print(sum(infected)/len(infected))\n",
    "plt.plot(plot_infected)\n",
    "plt.plot(plot_aware)"
   ]
  },
  {
   "cell_type": "code",
   "execution_count": null,
   "metadata": {},
   "outputs": [],
   "source": []
  }
 ],
 "metadata": {
  "interpreter": {
   "hash": "c77310ff46fc11c48def7abc3aaffc61cf9e2b32d1a699d12bf42488f77ba6fd"
  },
  "kernelspec": {
   "display_name": "Python 3.8.5 64-bit ('base': conda)",
   "language": "python",
   "name": "python3"
  },
  "language_info": {
   "codemirror_mode": {
    "name": "ipython",
    "version": 3
   },
   "file_extension": ".py",
   "mimetype": "text/x-python",
   "name": "python",
   "nbconvert_exporter": "python",
   "pygments_lexer": "ipython3",
   "version": "3.8.5"
  },
  "orig_nbformat": 4
 },
 "nbformat": 4,
 "nbformat_minor": 2
}
